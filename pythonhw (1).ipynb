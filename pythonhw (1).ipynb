{
  "nbformat": 4,
  "nbformat_minor": 0,
  "metadata": {
    "colab": {
      "name": "pythonhw.ipynb",
      "provenance": [],
      "collapsed_sections": []
    },
    "kernelspec": {
      "name": "python3",
      "display_name": "Python 3"
    }
  },
  "cells": [
    {
      "cell_type": "code",
      "metadata": {
        "id": "D3dkr1F944Jb",
        "colab_type": "code",
        "colab": {
          "base_uri": "https://localhost:8080/",
          "height": 1000
        },
        "outputId": "a38c6e7e-ee44-48ef-d748-2037bb309650"
      },
      "source": [
        "from google.colab import files\n",
        "\n",
        "import platform, sys\n",
        "python_version=platform.python_version()\n",
        "from distutils.version import LooseVersion, StrictVersion\n",
        "\n",
        "if ( LooseVersion(python_version) < LooseVersion(\"3.0.0\")):\n",
        "    print(\"Python3 is needed!\");\n",
        "    print(\"How to fix: Runtime/Change_runtime_type/Python 3\");\n",
        "    sys.exit()\n",
        "    \n",
        "try:\n",
        "    from dolfin import *; from mshr import *\n",
        "except ImportError as e:\n",
        "    !apt-get install -y -qq software-properties-common python-software-properties module-init-tools\n",
        "    !add-apt-repository -y ppa:fenics-packages/fenics\n",
        "    !apt-get update -qq\n",
        "    !apt install -y --no-install-recommends fenics\n",
        "    from dolfin import *; from mshr import *\n",
        "    \n",
        "import matplotlib.pyplot as plt;\n",
        "from IPython.display import clear_output, display; import time; import dolfin.common.plotting as fenicsplot \n",
        "import time\n",
        "\n",
        "import os, sys, shutil\n",
        "\n",
        "dolfin_version = dolfin.__version__\n",
        "print ('dolfin version:', dolfin_version)\n",
        "\n",
        "!rm -rf * # clean up all files\n",
        "# Useful commands\n",
        "# Remove an empty folder      : os.rmdir(\"my_results\")\n",
        "# Remove a folder with files  : shutil.rmtree(\"results\")\n",
        "# Make a folder               : os.mkdir(\"my_results\")\n",
        "# Runtime/Change_runtime_type/Python3"
      ],
      "execution_count": null,
      "outputs": [
        {
          "output_type": "stream",
          "text": [
            "E: Package 'python-software-properties' has no installation candidate\n",
            "Get:1 https://cloud.r-project.org/bin/linux/ubuntu bionic-cran35/ InRelease [3,626 B]\n",
            "Ign:2 https://developer.download.nvidia.com/compute/cuda/repos/ubuntu1804/x86_64  InRelease\n",
            "Ign:3 https://developer.download.nvidia.com/compute/machine-learning/repos/ubuntu1804/x86_64  InRelease\n",
            "Get:4 http://security.ubuntu.com/ubuntu bionic-security InRelease [88.7 kB]\n",
            "Get:5 http://ppa.launchpad.net/fenics-packages/fenics/ubuntu bionic InRelease [15.4 kB]\n",
            "Hit:6 https://developer.download.nvidia.com/compute/cuda/repos/ubuntu1804/x86_64  Release\n",
            "Hit:7 https://developer.download.nvidia.com/compute/machine-learning/repos/ubuntu1804/x86_64  Release\n",
            "Hit:8 http://archive.ubuntu.com/ubuntu bionic InRelease\n",
            "Get:10 http://archive.ubuntu.com/ubuntu bionic-updates InRelease [88.7 kB]\n",
            "Get:11 http://ppa.launchpad.net/graphics-drivers/ppa/ubuntu bionic InRelease [21.3 kB]\n",
            "Get:13 http://ppa.launchpad.net/marutter/c2d4u3.5/ubuntu bionic InRelease [15.4 kB]\n",
            "Get:14 http://security.ubuntu.com/ubuntu bionic-security/multiverse amd64 Packages [9,279 B]\n",
            "Get:15 http://archive.ubuntu.com/ubuntu bionic-backports InRelease [74.6 kB]\n",
            "Get:16 http://security.ubuntu.com/ubuntu bionic-security/restricted amd64 Packages [89.9 kB]\n",
            "Get:17 http://archive.ubuntu.com/ubuntu bionic-updates/main amd64 Packages [1,306 kB]\n",
            "Get:18 http://security.ubuntu.com/ubuntu bionic-security/universe amd64 Packages [869 kB]\n",
            "Get:19 http://ppa.launchpad.net/fenics-packages/fenics/ubuntu bionic/main amd64 Packages [5,700 B]\n",
            "Get:20 http://ppa.launchpad.net/graphics-drivers/ppa/ubuntu bionic/main amd64 Packages [43.3 kB]\n",
            "Get:21 http://security.ubuntu.com/ubuntu bionic-security/main amd64 Packages [1,005 kB]\n",
            "Get:22 http://archive.ubuntu.com/ubuntu bionic-updates/restricted amd64 Packages [104 kB]\n",
            "Get:23 http://archive.ubuntu.com/ubuntu bionic-updates/multiverse amd64 Packages [13.7 kB]\n",
            "Get:24 http://archive.ubuntu.com/ubuntu bionic-updates/universe amd64 Packages [1,405 kB]\n",
            "Get:25 http://archive.ubuntu.com/ubuntu bionic-backports/universe amd64 Packages [8,432 B]\n",
            "Get:26 http://ppa.launchpad.net/marutter/c2d4u3.5/ubuntu bionic/main Sources [1,849 kB]\n",
            "Get:27 http://ppa.launchpad.net/marutter/c2d4u3.5/ubuntu bionic/main amd64 Packages [892 kB]\n",
            "Fetched 7,909 kB in 7s (1,083 kB/s)\n",
            "Reading package lists... Done\n",
            "Reading package lists... Done\n",
            "Building dependency tree       \n",
            "Reading state information... Done\n",
            "The following package was automatically installed and is no longer required:\n",
            "  libnvidia-common-440\n",
            "Use 'apt autoremove' to remove it.\n",
            "The following additional packages will be installed:\n",
            "  dolfin-bin dolfin-doc libamd2 libarpack2-dev libblas-dev libblas3 libbtf1\n",
            "  libcamd2 libccolamd2 libcholmod3 libcolamd2 libcxsparse3 libdolfin-dev\n",
            "  libdolfin2019.1 libeigen3-dev libfftw3-bin libfftw3-dev libfftw3-long3\n",
            "  libfftw3-mpi-dev libfftw3-mpi3 libfftw3-quad3 libfftw3-single3 libgraphblas1\n",
            "  libhdf5-mpi-dev libhdf5-openmpi-dev libhypre-2.13.0 libhypre-dev libklu1\n",
            "  libldl2 libmetis5 libmshr-dev libmshr2019.1 libmumps-5.1.2 libmumps-dev\n",
            "  libparpack2 libparpack2-dev libpetsc3.7.7 libpetsc3.7.7-dev libproj-dev\n",
            "  libptscotch-6.0 libptscotch-dev librbio2 libscalapack-mpi-dev\n",
            "  libscalapack-openmpi-dev libscalapack-openmpi2.0 libscotch-6.0 libscotch-dev\n",
            "  libslepc3.7.4 libslepc3.7.4-dev libspooles-dev libspooles2.2 libspqr2\n",
            "  libsuitesparse-dev libsuitesparseconfig5 libsuperlu-dev libsuperlu-dist5\n",
            "  libtet1.5 libumfpack5 pybind11-dev python-ufl-doc python3-dijitso\n",
            "  python3-dolfin python3-ffc python3-fiat python3-mpi4py python3-mpmath\n",
            "  python3-mshr python3-petsc4py python3-pkg-resources python3-pkgconfig\n",
            "  python3-ply python3-pybind11 python3-six python3-slepc4py python3-sympy\n",
            "  python3-ufl\n",
            "Suggested packages:\n",
            "  liblapack-doc libeigen3-doc libmrpt-dev libfftw3-doc libhdf5-doc petsc-dev\n",
            "  libpetsc3.7.7-dbg petsc3.7.7-doc libluminate-dev proj-bin scalapack-doc\n",
            "  slepc3.7.4-doc spooles-doc libsuperlu-doc pybind11-doc python-dijitso-doc\n",
            "  python3-gmpy2 python3-matplotlib python-mpmath-doc python3-setuptools\n",
            "  python-ply-doc texlive-fonts-extra dvipng python-sympy-doc\n",
            "Recommended packages:\n",
            "  tcsh | csh | c-shell ksh | mksh | pdksh | zsh python-petsc4py-docs\n",
            "  python-slepc4py-docs python3-pil ipython3\n",
            "The following NEW packages will be installed:\n",
            "  dolfin-bin dolfin-doc fenics libamd2 libarpack2-dev libblas-dev libblas3\n",
            "  libbtf1 libcamd2 libccolamd2 libcholmod3 libcolamd2 libcxsparse3\n",
            "  libdolfin-dev libdolfin2019.1 libeigen3-dev libfftw3-bin libfftw3-dev\n",
            "  libfftw3-long3 libfftw3-mpi-dev libfftw3-mpi3 libfftw3-quad3\n",
            "  libfftw3-single3 libgraphblas1 libhdf5-mpi-dev libhdf5-openmpi-dev\n",
            "  libhypre-2.13.0 libhypre-dev libklu1 libldl2 libmetis5 libmshr-dev\n",
            "  libmshr2019.1 libmumps-5.1.2 libmumps-dev libparpack2 libparpack2-dev\n",
            "  libpetsc3.7.7 libpetsc3.7.7-dev libproj-dev libptscotch-6.0 libptscotch-dev\n",
            "  librbio2 libscalapack-mpi-dev libscalapack-openmpi-dev\n",
            "  libscalapack-openmpi2.0 libscotch-6.0 libscotch-dev libslepc3.7.4\n",
            "  libslepc3.7.4-dev libspooles-dev libspooles2.2 libspqr2 libsuitesparse-dev\n",
            "  libsuitesparseconfig5 libsuperlu-dev libsuperlu-dist5 libtet1.5 libumfpack5\n",
            "  pybind11-dev python-ufl-doc python3-dijitso python3-dolfin python3-ffc\n",
            "  python3-fiat python3-mpi4py python3-mpmath python3-mshr python3-petsc4py\n",
            "  python3-pkg-resources python3-pkgconfig python3-ply python3-pybind11\n",
            "  python3-six python3-slepc4py python3-sympy python3-ufl\n",
            "0 upgraded, 77 newly installed, 0 to remove and 66 not upgraded.\n",
            "Need to get 50.6 MB of archives.\n",
            "After this operation, 267 MB of additional disk space will be used.\n",
            "Get:1 http://archive.ubuntu.com/ubuntu bionic/main amd64 libsuitesparseconfig5 amd64 1:5.1.2-2 [9,044 B]\n",
            "Get:2 http://archive.ubuntu.com/ubuntu bionic/main amd64 libamd2 amd64 1:5.1.2-2 [19.5 kB]\n",
            "Get:3 http://archive.ubuntu.com/ubuntu bionic/main amd64 libblas3 amd64 3.7.1-4ubuntu1 [140 kB]\n",
            "Get:4 http://ppa.launchpad.net/fenics-packages/fenics/ubuntu bionic/main amd64 libdolfin2019.1 amd64 2019.1.0-1~ppa1~bionic4 [1,704 kB]\n",
            "Get:5 http://archive.ubuntu.com/ubuntu bionic/main amd64 libcamd2 amd64 1:5.1.2-2 [20.9 kB]\n",
            "Get:6 http://archive.ubuntu.com/ubuntu bionic/main amd64 libccolamd2 amd64 1:5.1.2-2 [21.7 kB]\n",
            "Get:7 http://archive.ubuntu.com/ubuntu bionic/main amd64 libcolamd2 amd64 1:5.1.2-2 [16.2 kB]\n",
            "Get:8 http://archive.ubuntu.com/ubuntu bionic/main amd64 libmetis5 amd64 5.1.0.dfsg-5 [169 kB]\n",
            "Get:9 http://archive.ubuntu.com/ubuntu bionic/main amd64 libcholmod3 amd64 1:5.1.2-2 [300 kB]\n",
            "Get:10 http://archive.ubuntu.com/ubuntu bionic/main amd64 libfftw3-long3 amd64 3.3.7-1 [308 kB]\n",
            "Get:11 http://archive.ubuntu.com/ubuntu bionic/main amd64 libfftw3-single3 amd64 3.3.7-1 [764 kB]\n",
            "Get:12 http://archive.ubuntu.com/ubuntu bionic/universe amd64 libfftw3-mpi3 amd64 3.3.7-1 [47.5 kB]\n",
            "Get:13 http://archive.ubuntu.com/ubuntu bionic/universe amd64 libscotch-6.0 amd64 6.0.4.dfsg1-8 [403 kB]\n",
            "Get:14 http://archive.ubuntu.com/ubuntu bionic/universe amd64 libptscotch-6.0 amd64 6.0.4.dfsg1-8 [654 kB]\n",
            "Get:15 http://archive.ubuntu.com/ubuntu bionic/universe amd64 libsuperlu-dist5 amd64 5.3.0+dfsg1-1 [213 kB]\n",
            "Get:16 http://archive.ubuntu.com/ubuntu bionic/universe amd64 libhypre-2.13.0 amd64 2.13.0-2 [1,718 kB]\n",
            "Get:17 http://archive.ubuntu.com/ubuntu bionic/main amd64 libbtf1 amd64 1:5.1.2-2 [10.6 kB]\n",
            "Get:18 http://archive.ubuntu.com/ubuntu bionic/main amd64 libklu1 amd64 1:5.1.2-2 [69.3 kB]\n",
            "Get:19 http://archive.ubuntu.com/ubuntu bionic/universe amd64 libscalapack-openmpi2.0 amd64 2.0.2-4 [1,473 kB]\n",
            "Get:20 http://archive.ubuntu.com/ubuntu bionic/universe amd64 libmumps-5.1.2 amd64 5.1.2-4 [1,103 kB]\n",
            "Get:21 http://archive.ubuntu.com/ubuntu bionic/main amd64 libumfpack5 amd64 1:5.1.2-2 [229 kB]\n",
            "Get:22 http://archive.ubuntu.com/ubuntu bionic/universe amd64 libpetsc3.7.7 amd64 3.7.7+dfsg1-2build5 [3,935 kB]\n",
            "Get:23 http://ppa.launchpad.net/fenics-packages/fenics/ubuntu bionic/main amd64 python3-fiat all 2019.1.0-1~ppa1~bionic1 [55.9 kB]\n",
            "Get:24 http://archive.ubuntu.com/ubuntu bionic/universe amd64 libparpack2 amd64 3.5.0+real-2 [84.5 kB]\n",
            "Get:25 http://archive.ubuntu.com/ubuntu bionic/universe amd64 libslepc3.7.4 amd64 3.7.4+dfsg1-2build8 [743 kB]\n",
            "Get:26 http://archive.ubuntu.com/ubuntu bionic/universe amd64 libeigen3-dev all 3.3.4-4 [810 kB]\n",
            "Get:27 http://archive.ubuntu.com/ubuntu bionic/universe amd64 libhdf5-openmpi-dev amd64 1.10.0-patch1+docs-4 [2,392 kB]\n",
            "Get:28 http://archive.ubuntu.com/ubuntu bionic/universe amd64 libhdf5-mpi-dev amd64 1.10.0-patch1+docs-4 [3,074 B]\n",
            "Get:29 http://archive.ubuntu.com/ubuntu bionic/main amd64 libcxsparse3 amd64 1:5.1.2-2 [63.9 kB]\n",
            "Get:30 http://archive.ubuntu.com/ubuntu bionic/main amd64 libgraphblas1 amd64 1:5.1.2-2 [384 kB]\n",
            "Get:31 http://archive.ubuntu.com/ubuntu bionic/main amd64 libldl2 amd64 1:5.1.2-2 [10.3 kB]\n",
            "Get:32 http://archive.ubuntu.com/ubuntu bionic/main amd64 librbio2 amd64 1:5.1.2-2 [24.0 kB]\n",
            "Get:33 http://archive.ubuntu.com/ubuntu bionic/main amd64 libspqr2 amd64 1:5.1.2-2 [64.2 kB]\n",
            "Get:34 http://archive.ubuntu.com/ubuntu bionic/main amd64 libblas-dev amd64 3.7.1-4ubuntu1 [143 kB]\n",
            "Get:35 http://archive.ubuntu.com/ubuntu bionic/main amd64 libsuitesparse-dev amd64 1:5.1.2-2 [1,235 kB]\n",
            "Get:36 http://archive.ubuntu.com/ubuntu bionic/universe amd64 libscotch-dev amd64 6.0.4.dfsg1-8 [1,791 kB]\n",
            "Get:37 http://archive.ubuntu.com/ubuntu bionic/universe amd64 python3-mpmath all 1.0.0-1 [400 kB]\n",
            "Get:38 http://archive.ubuntu.com/ubuntu bionic/universe amd64 python3-sympy all 1.1.1-5 [2,569 kB]\n",
            "Get:39 http://archive.ubuntu.com/ubuntu bionic/main amd64 python3-pkg-resources all 39.0.1-2 [98.8 kB]\n",
            "Get:40 http://archive.ubuntu.com/ubuntu bionic/universe amd64 python3-mpi4py amd64 2.0.0-3 [420 kB]\n",
            "Get:41 http://archive.ubuntu.com/ubuntu bionic/universe amd64 libspooles2.2 amd64 2.2-12build1 [458 kB]\n",
            "Get:42 http://archive.ubuntu.com/ubuntu bionic/universe amd64 libspooles-dev amd64 2.2-12build1 [587 kB]\n",
            "Get:43 http://archive.ubuntu.com/ubuntu bionic/universe amd64 libsuperlu-dev amd64 5.2.1+dfsg1-3 [16.3 kB]\n",
            "Get:44 http://archive.ubuntu.com/ubuntu bionic/universe amd64 libhypre-dev amd64 2.13.0-2 [134 kB]\n",
            "Get:45 http://archive.ubuntu.com/ubuntu bionic/universe amd64 libptscotch-dev amd64 6.0.4.dfsg1-8 [5,416 kB]\n",
            "Get:46 http://ppa.launchpad.net/fenics-packages/fenics/ubuntu bionic/main amd64 python3-ufl all 2019.1.0-1~ppa1~bionic1 [149 kB]\n",
            "Get:47 http://archive.ubuntu.com/ubuntu bionic/universe amd64 libscalapack-openmpi-dev amd64 2.0.2-4 [6,068 B]\n",
            "Get:48 http://archive.ubuntu.com/ubuntu bionic/universe amd64 libscalapack-mpi-dev amd64 2.0.2-4 [2,108 B]\n",
            "Get:49 http://archive.ubuntu.com/ubuntu bionic/universe amd64 libmumps-dev amd64 5.1.2-4 [984 kB]\n",
            "Get:50 http://archive.ubuntu.com/ubuntu bionic/main amd64 libfftw3-quad3 amd64 3.3.7-1 [552 kB]\n",
            "Get:51 http://archive.ubuntu.com/ubuntu bionic/main amd64 libfftw3-bin amd64 3.3.7-1 [32.7 kB]\n",
            "Get:52 http://archive.ubuntu.com/ubuntu bionic/main amd64 libfftw3-dev amd64 3.3.7-1 [2,108 kB]\n",
            "Get:53 http://archive.ubuntu.com/ubuntu bionic/universe amd64 libfftw3-mpi-dev amd64 3.3.7-1 [47.6 kB]\n",
            "Get:54 http://archive.ubuntu.com/ubuntu bionic/universe amd64 libpetsc3.7.7-dev amd64 3.7.7+dfsg1-2build5 [3,495 kB]\n",
            "Get:55 http://archive.ubuntu.com/ubuntu bionic/universe amd64 libarpack2-dev amd64 3.5.0+real-2 [97.3 kB]\n",
            "Get:56 http://archive.ubuntu.com/ubuntu bionic/universe amd64 libparpack2-dev amd64 3.5.0+real-2 [92.0 kB]\n",
            "Get:57 http://archive.ubuntu.com/ubuntu bionic/universe amd64 libslepc3.7.4-dev amd64 3.7.4+dfsg1-2build8 [1,701 kB]\n",
            "Get:58 http://archive.ubuntu.com/ubuntu bionic/main amd64 python3-ply all 3.11-1 [46.6 kB]\n",
            "Get:59 http://archive.ubuntu.com/ubuntu bionic/main amd64 python3-six all 1.11.0-2 [11.4 kB]\n",
            "Get:60 http://archive.ubuntu.com/ubuntu bionic/universe amd64 python3-petsc4py amd64 3.7.0-3build2 [719 kB]\n",
            "Get:61 http://archive.ubuntu.com/ubuntu bionic/universe amd64 python3-slepc4py amd64 3.7.0-3build1 [155 kB]\n",
            "Get:62 http://archive.ubuntu.com/ubuntu bionic/universe amd64 python3-pkgconfig all 1.3.1-1 [6,328 B]\n",
            "Get:63 http://archive.ubuntu.com/ubuntu bionic/universe amd64 libtet1.5 amd64 1.5.0-4 [235 kB]\n",
            "Get:64 http://ppa.launchpad.net/fenics-packages/fenics/ubuntu bionic/main amd64 python3-dijitso all 2019.1.0-1~ppa1~bionic1 [24.3 kB]\n",
            "Get:65 http://archive.ubuntu.com/ubuntu bionic/universe amd64 libproj-dev amd64 4.9.3-2 [199 kB]\n",
            "Get:66 http://ppa.launchpad.net/fenics-packages/fenics/ubuntu bionic/main amd64 python3-ffc all 2019.1.0.post0-1~ppa1~bionic1 [224 kB]\n",
            "Get:67 http://ppa.launchpad.net/fenics-packages/fenics/ubuntu bionic/main amd64 libdolfin-dev amd64 2019.1.0-1~ppa1~bionic4 [201 kB]\n",
            "Get:68 http://ppa.launchpad.net/fenics-packages/fenics/ubuntu bionic/main amd64 pybind11-dev all 2.2.3-1fenics1bionic1 [129 kB]\n",
            "Get:69 http://ppa.launchpad.net/fenics-packages/fenics/ubuntu bionic/main amd64 python3-pybind11 all 2.2.3-1fenics1bionic1 [21.5 kB]\n",
            "Get:70 http://ppa.launchpad.net/fenics-packages/fenics/ubuntu bionic/main amd64 python3-dolfin amd64 2019.1.0-1~ppa1~bionic4 [706 kB]\n",
            "Get:71 http://ppa.launchpad.net/fenics-packages/fenics/ubuntu bionic/main amd64 dolfin-bin all 2019.1.0-1~ppa1~bionic4 [22.2 kB]\n",
            "Get:72 http://ppa.launchpad.net/fenics-packages/fenics/ubuntu bionic/main amd64 dolfin-doc all 2019.1.0-1~ppa1~bionic4 [5,780 kB]\n",
            "Get:73 http://ppa.launchpad.net/fenics-packages/fenics/ubuntu bionic/main amd64 python-ufl-doc all 2019.1.0-1~ppa1~bionic1 [13.7 kB]\n",
            "Get:74 http://ppa.launchpad.net/fenics-packages/fenics/ubuntu bionic/main amd64 libmshr2019.1 amd64 2019.1.0+full1-1~ppa1~bionic1 [1,464 kB]\n",
            "Get:75 http://ppa.launchpad.net/fenics-packages/fenics/ubuntu bionic/main amd64 libmshr-dev amd64 2019.1.0+full1-1~ppa1~bionic1 [61.8 kB]\n",
            "Get:76 http://ppa.launchpad.net/fenics-packages/fenics/ubuntu bionic/main amd64 python3-mshr amd64 2019.1.0+full1-1~ppa1~bionic1 [89.9 kB]\n",
            "Get:77 http://ppa.launchpad.net/fenics-packages/fenics/ubuntu bionic/main amd64 fenics amd64 1:2019.1.0.1~ppa1~bionic1 [4,260 B]\n",
            "Fetched 50.6 MB in 21s (2,372 kB/s)\n",
            "Extracting templates from packages: 100%\n",
            "Selecting previously unselected package libsuitesparseconfig5:amd64.\n",
            "(Reading database ... 144465 files and directories currently installed.)\n",
            "Preparing to unpack .../00-libsuitesparseconfig5_1%3a5.1.2-2_amd64.deb ...\n",
            "Unpacking libsuitesparseconfig5:amd64 (1:5.1.2-2) ...\n",
            "Selecting previously unselected package libamd2:amd64.\n",
            "Preparing to unpack .../01-libamd2_1%3a5.1.2-2_amd64.deb ...\n",
            "Unpacking libamd2:amd64 (1:5.1.2-2) ...\n",
            "Selecting previously unselected package libblas3:amd64.\n",
            "Preparing to unpack .../02-libblas3_3.7.1-4ubuntu1_amd64.deb ...\n",
            "Unpacking libblas3:amd64 (3.7.1-4ubuntu1) ...\n",
            "Selecting previously unselected package libcamd2:amd64.\n",
            "Preparing to unpack .../03-libcamd2_1%3a5.1.2-2_amd64.deb ...\n",
            "Unpacking libcamd2:amd64 (1:5.1.2-2) ...\n",
            "Selecting previously unselected package libccolamd2:amd64.\n",
            "Preparing to unpack .../04-libccolamd2_1%3a5.1.2-2_amd64.deb ...\n",
            "Unpacking libccolamd2:amd64 (1:5.1.2-2) ...\n",
            "Selecting previously unselected package libcolamd2:amd64.\n",
            "Preparing to unpack .../05-libcolamd2_1%3a5.1.2-2_amd64.deb ...\n",
            "Unpacking libcolamd2:amd64 (1:5.1.2-2) ...\n",
            "Selecting previously unselected package libmetis5:amd64.\n",
            "Preparing to unpack .../06-libmetis5_5.1.0.dfsg-5_amd64.deb ...\n",
            "Unpacking libmetis5:amd64 (5.1.0.dfsg-5) ...\n",
            "Selecting previously unselected package libcholmod3:amd64.\n",
            "Preparing to unpack .../07-libcholmod3_1%3a5.1.2-2_amd64.deb ...\n",
            "Unpacking libcholmod3:amd64 (1:5.1.2-2) ...\n",
            "Selecting previously unselected package libfftw3-long3:amd64.\n",
            "Preparing to unpack .../08-libfftw3-long3_3.3.7-1_amd64.deb ...\n",
            "Unpacking libfftw3-long3:amd64 (3.3.7-1) ...\n",
            "Selecting previously unselected package libfftw3-single3:amd64.\n",
            "Preparing to unpack .../09-libfftw3-single3_3.3.7-1_amd64.deb ...\n",
            "Unpacking libfftw3-single3:amd64 (3.3.7-1) ...\n",
            "Selecting previously unselected package libfftw3-mpi3:amd64.\n",
            "Preparing to unpack .../10-libfftw3-mpi3_3.3.7-1_amd64.deb ...\n",
            "Unpacking libfftw3-mpi3:amd64 (3.3.7-1) ...\n",
            "Selecting previously unselected package libscotch-6.0.\n",
            "Preparing to unpack .../11-libscotch-6.0_6.0.4.dfsg1-8_amd64.deb ...\n",
            "Unpacking libscotch-6.0 (6.0.4.dfsg1-8) ...\n",
            "Selecting previously unselected package libptscotch-6.0.\n",
            "Preparing to unpack .../12-libptscotch-6.0_6.0.4.dfsg1-8_amd64.deb ...\n",
            "Unpacking libptscotch-6.0 (6.0.4.dfsg1-8) ...\n",
            "Selecting previously unselected package libsuperlu-dist5.\n",
            "Preparing to unpack .../13-libsuperlu-dist5_5.3.0+dfsg1-1_amd64.deb ...\n",
            "Unpacking libsuperlu-dist5 (5.3.0+dfsg1-1) ...\n",
            "Selecting previously unselected package libhypre-2.13.0:amd64.\n",
            "Preparing to unpack .../14-libhypre-2.13.0_2.13.0-2_amd64.deb ...\n",
            "Unpacking libhypre-2.13.0:amd64 (2.13.0-2) ...\n",
            "Selecting previously unselected package libbtf1:amd64.\n",
            "Preparing to unpack .../15-libbtf1_1%3a5.1.2-2_amd64.deb ...\n",
            "Unpacking libbtf1:amd64 (1:5.1.2-2) ...\n",
            "Selecting previously unselected package libklu1:amd64.\n",
            "Preparing to unpack .../16-libklu1_1%3a5.1.2-2_amd64.deb ...\n",
            "Unpacking libklu1:amd64 (1:5.1.2-2) ...\n",
            "Selecting previously unselected package libscalapack-openmpi2.0.\n",
            "Preparing to unpack .../17-libscalapack-openmpi2.0_2.0.2-4_amd64.deb ...\n",
            "Unpacking libscalapack-openmpi2.0 (2.0.2-4) ...\n",
            "Selecting previously unselected package libmumps-5.1.2:amd64.\n",
            "Preparing to unpack .../18-libmumps-5.1.2_5.1.2-4_amd64.deb ...\n",
            "Unpacking libmumps-5.1.2:amd64 (5.1.2-4) ...\n",
            "Selecting previously unselected package libumfpack5:amd64.\n",
            "Preparing to unpack .../19-libumfpack5_1%3a5.1.2-2_amd64.deb ...\n",
            "Unpacking libumfpack5:amd64 (1:5.1.2-2) ...\n",
            "Selecting previously unselected package libpetsc3.7.7:amd64.\n",
            "Preparing to unpack .../20-libpetsc3.7.7_3.7.7+dfsg1-2build5_amd64.deb ...\n",
            "Unpacking libpetsc3.7.7:amd64 (3.7.7+dfsg1-2build5) ...\n",
            "Selecting previously unselected package libparpack2:amd64.\n",
            "Preparing to unpack .../21-libparpack2_3.5.0+real-2_amd64.deb ...\n",
            "Unpacking libparpack2:amd64 (3.5.0+real-2) ...\n",
            "Selecting previously unselected package libslepc3.7.4.\n",
            "Preparing to unpack .../22-libslepc3.7.4_3.7.4+dfsg1-2build8_amd64.deb ...\n",
            "Unpacking libslepc3.7.4 (3.7.4+dfsg1-2build8) ...\n",
            "Selecting previously unselected package libdolfin2019.1:amd64.\n",
            "Preparing to unpack .../23-libdolfin2019.1_2019.1.0-1~ppa1~bionic4_amd64.deb ...\n",
            "Unpacking libdolfin2019.1:amd64 (2019.1.0-1~ppa1~bionic4) ...\n",
            "Selecting previously unselected package libeigen3-dev.\n",
            "Preparing to unpack .../24-libeigen3-dev_3.3.4-4_all.deb ...\n",
            "Unpacking libeigen3-dev (3.3.4-4) ...\n",
            "Selecting previously unselected package libhdf5-openmpi-dev.\n",
            "Preparing to unpack .../25-libhdf5-openmpi-dev_1.10.0-patch1+docs-4_amd64.deb ...\n",
            "Unpacking libhdf5-openmpi-dev (1.10.0-patch1+docs-4) ...\n",
            "Selecting previously unselected package libhdf5-mpi-dev.\n",
            "Preparing to unpack .../26-libhdf5-mpi-dev_1.10.0-patch1+docs-4_amd64.deb ...\n",
            "Unpacking libhdf5-mpi-dev (1.10.0-patch1+docs-4) ...\n",
            "Selecting previously unselected package libcxsparse3:amd64.\n",
            "Preparing to unpack .../27-libcxsparse3_1%3a5.1.2-2_amd64.deb ...\n",
            "Unpacking libcxsparse3:amd64 (1:5.1.2-2) ...\n",
            "Selecting previously unselected package libgraphblas1:amd64.\n",
            "Preparing to unpack .../28-libgraphblas1_1%3a5.1.2-2_amd64.deb ...\n",
            "Unpacking libgraphblas1:amd64 (1:5.1.2-2) ...\n",
            "Selecting previously unselected package libldl2:amd64.\n",
            "Preparing to unpack .../29-libldl2_1%3a5.1.2-2_amd64.deb ...\n",
            "Unpacking libldl2:amd64 (1:5.1.2-2) ...\n",
            "Selecting previously unselected package librbio2:amd64.\n",
            "Preparing to unpack .../30-librbio2_1%3a5.1.2-2_amd64.deb ...\n",
            "Unpacking librbio2:amd64 (1:5.1.2-2) ...\n",
            "Selecting previously unselected package libspqr2:amd64.\n",
            "Preparing to unpack .../31-libspqr2_1%3a5.1.2-2_amd64.deb ...\n",
            "Unpacking libspqr2:amd64 (1:5.1.2-2) ...\n",
            "Selecting previously unselected package libblas-dev:amd64.\n",
            "Preparing to unpack .../32-libblas-dev_3.7.1-4ubuntu1_amd64.deb ...\n",
            "Unpacking libblas-dev:amd64 (3.7.1-4ubuntu1) ...\n",
            "Selecting previously unselected package libsuitesparse-dev:amd64.\n",
            "Preparing to unpack .../33-libsuitesparse-dev_1%3a5.1.2-2_amd64.deb ...\n",
            "Unpacking libsuitesparse-dev:amd64 (1:5.1.2-2) ...\n",
            "Selecting previously unselected package libscotch-dev.\n",
            "Preparing to unpack .../34-libscotch-dev_6.0.4.dfsg1-8_amd64.deb ...\n",
            "Unpacking libscotch-dev (6.0.4.dfsg1-8) ...\n",
            "Selecting previously unselected package python3-mpmath.\n",
            "Preparing to unpack .../35-python3-mpmath_1.0.0-1_all.deb ...\n",
            "Unpacking python3-mpmath (1.0.0-1) ...\n",
            "Selecting previously unselected package python3-sympy.\n",
            "Preparing to unpack .../36-python3-sympy_1.1.1-5_all.deb ...\n",
            "Unpacking python3-sympy (1.1.1-5) ...\n",
            "Selecting previously unselected package python3-pkg-resources.\n",
            "Preparing to unpack .../37-python3-pkg-resources_39.0.1-2_all.deb ...\n",
            "Unpacking python3-pkg-resources (39.0.1-2) ...\n",
            "Selecting previously unselected package python3-fiat.\n",
            "Preparing to unpack .../38-python3-fiat_2019.1.0-1~ppa1~bionic1_all.deb ...\n",
            "Unpacking python3-fiat (2019.1.0-1~ppa1~bionic1) ...\n",
            "Selecting previously unselected package python3-ufl.\n",
            "Preparing to unpack .../39-python3-ufl_2019.1.0-1~ppa1~bionic1_all.deb ...\n",
            "Unpacking python3-ufl (2019.1.0-1~ppa1~bionic1) ...\n",
            "Selecting previously unselected package python3-mpi4py.\n",
            "Preparing to unpack .../40-python3-mpi4py_2.0.0-3_amd64.deb ...\n",
            "Unpacking python3-mpi4py (2.0.0-3) ...\n",
            "Selecting previously unselected package python3-dijitso.\n",
            "Preparing to unpack .../41-python3-dijitso_2019.1.0-1~ppa1~bionic1_all.deb ...\n",
            "Unpacking python3-dijitso (2019.1.0-1~ppa1~bionic1) ...\n",
            "Selecting previously unselected package python3-ffc.\n",
            "Preparing to unpack .../42-python3-ffc_2019.1.0.post0-1~ppa1~bionic1_all.deb ...\n",
            "Unpacking python3-ffc (2019.1.0.post0-1~ppa1~bionic1) ...\n",
            "Selecting previously unselected package libspooles2.2:amd64.\n",
            "Preparing to unpack .../43-libspooles2.2_2.2-12build1_amd64.deb ...\n",
            "Unpacking libspooles2.2:amd64 (2.2-12build1) ...\n",
            "Selecting previously unselected package libspooles-dev:amd64.\n",
            "Preparing to unpack .../44-libspooles-dev_2.2-12build1_amd64.deb ...\n",
            "Unpacking libspooles-dev:amd64 (2.2-12build1) ...\n",
            "Selecting previously unselected package libsuperlu-dev:amd64.\n",
            "Preparing to unpack .../45-libsuperlu-dev_5.2.1+dfsg1-3_amd64.deb ...\n",
            "Unpacking libsuperlu-dev:amd64 (5.2.1+dfsg1-3) ...\n",
            "Selecting previously unselected package libhypre-dev:amd64.\n",
            "Preparing to unpack .../46-libhypre-dev_2.13.0-2_amd64.deb ...\n",
            "Unpacking libhypre-dev:amd64 (2.13.0-2) ...\n",
            "Selecting previously unselected package libptscotch-dev.\n",
            "Preparing to unpack .../47-libptscotch-dev_6.0.4.dfsg1-8_amd64.deb ...\n",
            "Unpacking libptscotch-dev (6.0.4.dfsg1-8) ...\n",
            "Selecting previously unselected package libscalapack-openmpi-dev.\n",
            "Preparing to unpack .../48-libscalapack-openmpi-dev_2.0.2-4_amd64.deb ...\n",
            "Unpacking libscalapack-openmpi-dev (2.0.2-4) ...\n",
            "Selecting previously unselected package libscalapack-mpi-dev.\n",
            "Preparing to unpack .../49-libscalapack-mpi-dev_2.0.2-4_amd64.deb ...\n",
            "Unpacking libscalapack-mpi-dev (2.0.2-4) ...\n",
            "Selecting previously unselected package libmumps-dev:amd64.\n",
            "Preparing to unpack .../50-libmumps-dev_5.1.2-4_amd64.deb ...\n",
            "Unpacking libmumps-dev:amd64 (5.1.2-4) ...\n",
            "Selecting previously unselected package libfftw3-quad3:amd64.\n",
            "Preparing to unpack .../51-libfftw3-quad3_3.3.7-1_amd64.deb ...\n",
            "Unpacking libfftw3-quad3:amd64 (3.3.7-1) ...\n",
            "Selecting previously unselected package libfftw3-bin.\n",
            "Preparing to unpack .../52-libfftw3-bin_3.3.7-1_amd64.deb ...\n",
            "Unpacking libfftw3-bin (3.3.7-1) ...\n",
            "Selecting previously unselected package libfftw3-dev:amd64.\n",
            "Preparing to unpack .../53-libfftw3-dev_3.3.7-1_amd64.deb ...\n",
            "Unpacking libfftw3-dev:amd64 (3.3.7-1) ...\n",
            "Selecting previously unselected package libfftw3-mpi-dev:amd64.\n",
            "Preparing to unpack .../54-libfftw3-mpi-dev_3.3.7-1_amd64.deb ...\n",
            "Unpacking libfftw3-mpi-dev:amd64 (3.3.7-1) ...\n",
            "Selecting previously unselected package libpetsc3.7.7-dev:amd64.\n",
            "Preparing to unpack .../55-libpetsc3.7.7-dev_3.7.7+dfsg1-2build5_amd64.deb ...\n",
            "Unpacking libpetsc3.7.7-dev:amd64 (3.7.7+dfsg1-2build5) ...\n",
            "Selecting previously unselected package libarpack2-dev:amd64.\n",
            "Preparing to unpack .../56-libarpack2-dev_3.5.0+real-2_amd64.deb ...\n",
            "Unpacking libarpack2-dev:amd64 (3.5.0+real-2) ...\n",
            "Selecting previously unselected package libparpack2-dev:amd64.\n",
            "Preparing to unpack .../57-libparpack2-dev_3.5.0+real-2_amd64.deb ...\n",
            "Unpacking libparpack2-dev:amd64 (3.5.0+real-2) ...\n",
            "Selecting previously unselected package libslepc3.7.4-dev.\n",
            "Preparing to unpack .../58-libslepc3.7.4-dev_3.7.4+dfsg1-2build8_amd64.deb ...\n",
            "Unpacking libslepc3.7.4-dev (3.7.4+dfsg1-2build8) ...\n",
            "Selecting previously unselected package libdolfin-dev.\n",
            "Preparing to unpack .../59-libdolfin-dev_2019.1.0-1~ppa1~bionic4_amd64.deb ...\n",
            "Unpacking libdolfin-dev (2019.1.0-1~ppa1~bionic4) ...\n",
            "Selecting previously unselected package python3-ply.\n",
            "Preparing to unpack .../60-python3-ply_3.11-1_all.deb ...\n",
            "Unpacking python3-ply (3.11-1) ...\n",
            "Selecting previously unselected package pybind11-dev.\n",
            "Preparing to unpack .../61-pybind11-dev_2.2.3-1fenics1bionic1_all.deb ...\n",
            "Unpacking pybind11-dev (2.2.3-1fenics1bionic1) ...\n",
            "Selecting previously unselected package python3-pybind11.\n",
            "Preparing to unpack .../62-python3-pybind11_2.2.3-1fenics1bionic1_all.deb ...\n",
            "Unpacking python3-pybind11 (2.2.3-1fenics1bionic1) ...\n",
            "Selecting previously unselected package python3-six.\n",
            "Preparing to unpack .../63-python3-six_1.11.0-2_all.deb ...\n",
            "Unpacking python3-six (1.11.0-2) ...\n",
            "Selecting previously unselected package python3-petsc4py.\n",
            "Preparing to unpack .../64-python3-petsc4py_3.7.0-3build2_amd64.deb ...\n",
            "Unpacking python3-petsc4py (3.7.0-3build2) ...\n",
            "Selecting previously unselected package python3-slepc4py.\n",
            "Preparing to unpack .../65-python3-slepc4py_3.7.0-3build1_amd64.deb ...\n",
            "Unpacking python3-slepc4py (3.7.0-3build1) ...\n",
            "Selecting previously unselected package python3-pkgconfig.\n",
            "Preparing to unpack .../66-python3-pkgconfig_1.3.1-1_all.deb ...\n",
            "Unpacking python3-pkgconfig (1.3.1-1) ...\n",
            "Selecting previously unselected package python3-dolfin.\n",
            "Preparing to unpack .../67-python3-dolfin_2019.1.0-1~ppa1~bionic4_amd64.deb ...\n",
            "Unpacking python3-dolfin (2019.1.0-1~ppa1~bionic4) ...\n",
            "Selecting previously unselected package dolfin-bin.\n",
            "Preparing to unpack .../68-dolfin-bin_2019.1.0-1~ppa1~bionic4_all.deb ...\n",
            "Unpacking dolfin-bin (2019.1.0-1~ppa1~bionic4) ...\n",
            "Selecting previously unselected package dolfin-doc.\n",
            "Preparing to unpack .../69-dolfin-doc_2019.1.0-1~ppa1~bionic4_all.deb ...\n",
            "Unpacking dolfin-doc (2019.1.0-1~ppa1~bionic4) ...\n",
            "Selecting previously unselected package python-ufl-doc.\n",
            "Preparing to unpack .../70-python-ufl-doc_2019.1.0-1~ppa1~bionic1_all.deb ...\n",
            "Unpacking python-ufl-doc (2019.1.0-1~ppa1~bionic1) ...\n",
            "Selecting previously unselected package libtet1.5:amd64.\n",
            "Preparing to unpack .../71-libtet1.5_1.5.0-4_amd64.deb ...\n",
            "Unpacking libtet1.5:amd64 (1.5.0-4) ...\n",
            "Selecting previously unselected package libmshr2019.1:amd64.\n",
            "Preparing to unpack .../72-libmshr2019.1_2019.1.0+full1-1~ppa1~bionic1_amd64.deb ...\n",
            "Unpacking libmshr2019.1:amd64 (2019.1.0+full1-1~ppa1~bionic1) ...\n",
            "Selecting previously unselected package libproj-dev:amd64.\n",
            "Preparing to unpack .../73-libproj-dev_4.9.3-2_amd64.deb ...\n",
            "Unpacking libproj-dev:amd64 (4.9.3-2) ...\n",
            "Selecting previously unselected package libmshr-dev.\n",
            "Preparing to unpack .../74-libmshr-dev_2019.1.0+full1-1~ppa1~bionic1_amd64.deb ...\n",
            "Unpacking libmshr-dev (2019.1.0+full1-1~ppa1~bionic1) ...\n",
            "Selecting previously unselected package python3-mshr.\n",
            "Preparing to unpack .../75-python3-mshr_2019.1.0+full1-1~ppa1~bionic1_amd64.deb ...\n",
            "Unpacking python3-mshr (2019.1.0+full1-1~ppa1~bionic1) ...\n",
            "Selecting previously unselected package fenics:amd64.\n",
            "Preparing to unpack .../76-fenics_1%3a2019.1.0.1~ppa1~bionic1_amd64.deb ...\n",
            "Unpacking fenics:amd64 (1:2019.1.0.1~ppa1~bionic1) ...\n",
            "Setting up python3-pkgconfig (1.3.1-1) ...\n",
            "Setting up libbtf1:amd64 (1:5.1.2-2) ...\n",
            "Setting up libldl2:amd64 (1:5.1.2-2) ...\n",
            "Setting up libscotch-6.0 (6.0.4.dfsg1-8) ...\n",
            "Setting up libcxsparse3:amd64 (1:5.1.2-2) ...\n",
            "Setting up libproj-dev:amd64 (4.9.3-2) ...\n",
            "Setting up python-ufl-doc (2019.1.0-1~ppa1~bionic1) ...\n",
            "Setting up libtet1.5:amd64 (1.5.0-4) ...\n",
            "Setting up libscalapack-openmpi2.0 (2.0.2-4) ...\n",
            "Setting up libeigen3-dev (3.3.4-4) ...\n",
            "Setting up libgraphblas1:amd64 (1:5.1.2-2) ...\n",
            "Setting up python3-six (1.11.0-2) ...\n",
            "Setting up libptscotch-6.0 (6.0.4.dfsg1-8) ...\n",
            "Setting up libparpack2:amd64 (3.5.0+real-2) ...\n",
            "Setting up libspooles2.2:amd64 (2.2-12build1) ...\n",
            "Setting up python3-pkg-resources (39.0.1-2) ...\n",
            "Setting up python3-mpmath (1.0.0-1) ...\n",
            "Setting up python3-ufl (2019.1.0-1~ppa1~bionic1) ...\n",
            "Setting up libscalapack-openmpi-dev (2.0.2-4) ...\n",
            "Setting up libhdf5-openmpi-dev (1.10.0-patch1+docs-4) ...\n",
            "update-alternatives: using /usr/bin/h5pcc.openmpi to provide /usr/bin/h5pcc (h5pcc) in auto mode\n",
            "Setting up libfftw3-quad3:amd64 (3.3.7-1) ...\n",
            "Setting up libblas3:amd64 (3.7.1-4ubuntu1) ...\n",
            "Setting up libscotch-dev (6.0.4.dfsg1-8) ...\n",
            "Setting up libsuperlu-dist5 (5.3.0+dfsg1-1) ...\n",
            "Setting up libsuitesparseconfig5:amd64 (1:5.1.2-2) ...\n",
            "Setting up libmetis5:amd64 (5.1.0.dfsg-5) ...\n",
            "Setting up pybind11-dev (2.2.3-1fenics1bionic1) ...\n",
            "Setting up libcolamd2:amd64 (1:5.1.2-2) ...\n",
            "Setting up libarpack2-dev:amd64 (3.5.0+real-2) ...\n",
            "Setting up libccolamd2:amd64 (1:5.1.2-2) ...\n",
            "Setting up libfftw3-single3:amd64 (3.3.7-1) ...\n",
            "Setting up python3-mpi4py (2.0.0-3) ...\n",
            "Setting up python3-ply (3.11-1) ...\n",
            "Setting up python3-sympy (1.1.1-5) ...\n",
            "Setting up libspooles-dev:amd64 (2.2-12build1) ...\n",
            "Setting up libfftw3-long3:amd64 (3.3.7-1) ...\n",
            "Setting up python3-pybind11 (2.2.3-1fenics1bionic1) ...\n",
            "Setting up python3-fiat (2019.1.0-1~ppa1~bionic1) ...\n",
            "Setting up libparpack2-dev:amd64 (3.5.0+real-2) ...\n",
            "Setting up libfftw3-bin (3.3.7-1) ...\n",
            "Setting up libmumps-5.1.2:amd64 (5.1.2-4) ...\n",
            "Setting up libptscotch-dev (6.0.4.dfsg1-8) ...\n",
            "Setting up libblas-dev:amd64 (3.7.1-4ubuntu1) ...\n",
            "Setting up libscalapack-mpi-dev (2.0.2-4) ...\n",
            "Setting up libhypre-2.13.0:amd64 (2.13.0-2) ...\n",
            "Setting up librbio2:amd64 (1:5.1.2-2) ...\n",
            "Setting up libcamd2:amd64 (1:5.1.2-2) ...\n",
            "Setting up libfftw3-mpi3:amd64 (3.3.7-1) ...\n",
            "Setting up libmumps-dev:amd64 (5.1.2-4) ...\n",
            "Setting up python3-dijitso (2019.1.0-1~ppa1~bionic1) ...\n",
            "Setting up libhdf5-mpi-dev (1.10.0-patch1+docs-4) ...\n",
            "Setting up libamd2:amd64 (1:5.1.2-2) ...\n",
            "Setting up libsuperlu-dev:amd64 (5.2.1+dfsg1-3) ...\n",
            "Setting up libfftw3-dev:amd64 (3.3.7-1) ...\n",
            "Setting up python3-ffc (2019.1.0.post0-1~ppa1~bionic1) ...\n",
            "update-alternatives: using /usr/lib/python3/dist-packages/ffc/backends/ufc/ufc.h to provide /usr/include/ufc.h (ufc.h) in auto mode\n",
            "Setting up libfftw3-mpi-dev:amd64 (3.3.7-1) ...\n",
            "Setting up libhypre-dev:amd64 (2.13.0-2) ...\n",
            "Setting up libklu1:amd64 (1:5.1.2-2) ...\n",
            "Setting up libcholmod3:amd64 (1:5.1.2-2) ...\n",
            "Setting up libspqr2:amd64 (1:5.1.2-2) ...\n",
            "Setting up libumfpack5:amd64 (1:5.1.2-2) ...\n",
            "Setting up libpetsc3.7.7:amd64 (3.7.7+dfsg1-2build5) ...\n",
            "update-alternatives: using /usr/lib/x86_64-linux-gnu/libpetsc_real.so.3.7.7 to provide /usr/lib/x86_64-linux-gnu/libpetsc.so.3.7 (libpetsc.so.3.7) in auto mode\n",
            "update-alternatives: using /usr/lib/x86_64-linux-gnu/libpetsc_real.so.3.7.7 to provide /usr/lib/x86_64-linux-gnu/libpetsc_real.so.3.7 (libpetsc_real.so.3.7) in auto mode\n",
            "Setting up python3-petsc4py (3.7.0-3build2) ...\n",
            "Setting up libsuitesparse-dev:amd64 (1:5.1.2-2) ...\n",
            "Setting up libpetsc3.7.7-dev:amd64 (3.7.7+dfsg1-2build5) ...\n",
            "update-alternatives: error: no alternatives for petsc\n",
            "update-alternatives: using /usr/lib/petscdir/3.7.7/x86_64-linux-gnu-real to provide /usr/lib/petsc (petsc) in auto mode\n",
            "update-alternatives: using /usr/lib/x86_64-linux-gnu/libpetsc_real.so.3.7.7 to provide /usr/lib/x86_64-linux-gnu/libpetsc_real.so (libpetsc_real.so) in auto mode\n",
            "update-alternatives: using /usr/lib/petscdir/3.7.7/x86_64-linux-gnu-real to provide /usr/lib/petscdir/3.7 (petsc3.7) in auto mode\n",
            "update-alternatives: using /usr/lib/petscdir/3.7.7/x86_64-linux-gnu-real to provide /usr/lib/petscdir/3.7-real (petsc3.7-real) in auto mode\n",
            "Setting up libslepc3.7.4 (3.7.4+dfsg1-2build8) ...\n",
            "update-alternatives: using /usr/lib/x86_64-linux-gnu/libslepc_real.so.3.7.4 to provide /usr/lib/x86_64-linux-gnu/libslepc.so.3.7 (libslepc.so.3.7) in auto mode\n",
            "update-alternatives: using /usr/lib/x86_64-linux-gnu/libslepc_real.so.3.7.4 to provide /usr/lib/x86_64-linux-gnu/libslepc_real.so.3.7 (libslepc_real.so.3.7) in auto mode\n",
            "Setting up python3-slepc4py (3.7.0-3build1) ...\n",
            "Setting up libslepc3.7.4-dev (3.7.4+dfsg1-2build8) ...\n",
            "update-alternatives: error: no alternatives for slepc\n",
            "update-alternatives: using /usr/lib/slepcdir/3.7.4/x86_64-linux-gnu-real to provide /usr/lib/slepc (slepc) in auto mode\n",
            "update-alternatives: using /usr/lib/x86_64-linux-gnu/libslepc_real.so.3.7.4 to provide /usr/lib/x86_64-linux-gnu/libslepc_real.so (libslepc_real.so) in auto mode\n",
            "update-alternatives: using /usr/lib/slepcdir/3.7.4/x86_64-linux-gnu-real to provide /usr/lib/slepcdir/3.7 (slepc3.7) in auto mode\n",
            "update-alternatives: using /usr/lib/slepcdir/3.7.4/x86_64-linux-gnu-real to provide /usr/lib/slepcdir/3.7-real (slepc3.7-real) in auto mode\n",
            "Setting up libdolfin2019.1:amd64 (2019.1.0-1~ppa1~bionic4) ...\n",
            "Setting up libdolfin-dev (2019.1.0-1~ppa1~bionic4) ...\n",
            "Setting up libmshr2019.1:amd64 (2019.1.0+full1-1~ppa1~bionic1) ...\n",
            "Setting up python3-dolfin (2019.1.0-1~ppa1~bionic4) ...\n",
            "Setting up dolfin-doc (2019.1.0-1~ppa1~bionic4) ...\n",
            "Setting up libmshr-dev (2019.1.0+full1-1~ppa1~bionic1) ...\n",
            "Setting up dolfin-bin (2019.1.0-1~ppa1~bionic4) ...\n",
            "Setting up python3-mshr (2019.1.0+full1-1~ppa1~bionic1) ...\n",
            "Setting up fenics:amd64 (1:2019.1.0.1~ppa1~bionic1) ...\n",
            "Processing triggers for man-db (2.8.3-2ubuntu0.1) ...\n",
            "Processing triggers for libc-bin (2.27-3ubuntu1) ...\n",
            "/sbin/ldconfig.real: /usr/local/lib/python3.6/dist-packages/ideep4py/lib/libmkldnn.so.0 is not a symbolic link\n",
            "\n",
            "dolfin version: 2019.1.0\n"
          ],
          "name": "stdout"
        }
      ]
    },
    {
      "cell_type": "code",
      "metadata": {
        "id": "J7HR7Kc65dP9",
        "colab_type": "code",
        "colab": {}
      },
      "source": [
        "from fenics import*"
      ],
      "execution_count": null,
      "outputs": []
    },
    {
      "cell_type": "code",
      "metadata": {
        "id": "fGdew-JS5flg",
        "colab_type": "code",
        "colab": {
          "base_uri": "https://localhost:8080/",
          "height": 300
        },
        "outputId": "f3121e23-b2d0-41c7-a4ef-4c3b9996690a"
      },
      "source": [
        "mesh1=UnitSquareMesh(8,8)\n",
        "mesh2=UnitSquareMesh(16,16)\n",
        "mesh3=UnitSquareMesh(32,32)\n",
        "plot(mesh3)\n"
      ],
      "execution_count": null,
      "outputs": [
        {
          "output_type": "execute_result",
          "data": {
            "text/plain": [
              "[<matplotlib.lines.Line2D at 0x7f08606a3cc0>,\n",
              " <matplotlib.lines.Line2D at 0x7f08606a3e48>]"
            ]
          },
          "metadata": {
            "tags": []
          },
          "execution_count": 94
        },
        {
          "output_type": "display_data",
          "data": {
            "image/png": "[encoded data removed]",
            "text/plain": [
              "<Figure size 432x288 with 1 Axes>"
            ]
          },
          "metadata": {
            "tags": [],
            "needs_background": "light"
          }
        }
      ]
    },
    {
      "cell_type": "code",
      "metadata": {
        "id": "-JTZVlr-6Lx0",
        "colab_type": "code",
        "colab": {}
      },
      "source": [
        "V=FunctionSpace(mesh1,'P',2) #2-quadratic elements"
      ],
      "execution_count": null,
      "outputs": []
    },
    {
      "cell_type": "code",
      "metadata": {
        "id": "xRfNIHg-6fCg",
        "colab_type": "code",
        "colab": {}
      },
      "source": [
        "# Define boundary condition\n",
        "# homework: u_true=sin(2*pi*(x-y)) (find u_D and f, solve this and plot it) (Solved)\n",
        "# Compute error in L2 norm (solved)\n",
        "\n",
        "u_D = Expression('sin(2*pi*(x[0]-x[1]))', degree=2)\n",
        "def boundary(x, on_boundary): \n",
        "    return on_boundary\n",
        "\n",
        "bc = DirichletBC(V, u_D, boundary)"
      ],
      "execution_count": null,
      "outputs": []
    },
    {
      "cell_type": "code",
      "metadata": {
        "id": "lR7Mm8vD7aL9",
        "colab_type": "code",
        "colab": {}
      },
      "source": [
        "# Define variational problem\n",
        "u = TrialFunction(V)\n",
        "\n",
        "v = TestFunction(V)\n",
        "\n",
        "f = Expression('2*pow(2*pi,2)*sin(2*pi*(x[0]-x[1]))',degree=2)\n",
        "a = dot(grad(u), grad(v))*dx\n",
        "\n",
        "L = f*v*dx\n"
      ],
      "execution_count": null,
      "outputs": []
    },
    {
      "cell_type": "code",
      "metadata": {
        "id": "lSiugF8Q7ebo",
        "colab_type": "code",
        "colab": {
          "base_uri": "https://localhost:8080/",
          "height": 299
        },
        "outputId": "48fddee7-0bad-4cb0-d61e-7bcb45dec84f"
      },
      "source": [
        "from datetime import datetime\n",
        "\n",
        "\n",
        "# Compute solution\n",
        "u = Function(V)\n",
        "\n",
        "startTime = datetime.now()\n",
        "solve(a == L, u, bc)\n",
        "\n",
        "endTime = datetime.now()\n",
        "\n",
        "# Plot solution and mesh\n",
        "p=plot(u, title=\"Solution u(x,y)\")\n",
        "\n",
        "plt.colorbar(p)\n",
        "\n",
        "#plot(mesh)\n",
        "print(endTime-startTime)"
      ],
      "execution_count": null,
      "outputs": [
        {
          "output_type": "stream",
          "text": [
            "0:00:00.005829\n"
          ],
          "name": "stdout"
        },
        {
          "output_type": "display_data",
          "data": {
            "image/png": "[encoded data removed]",
            "text/plain": [
              "<Figure size 432x288 with 2 Axes>"
            ]
          },
          "metadata": {
            "tags": [],
            "needs_background": "light"
          }
        }
      ]
    },
    {
      "cell_type": "code",
      "metadata": {
        "id": "zCgedQK-7rxl",
        "colab_type": "code",
        "colab": {
          "base_uri": "https://localhost:8080/",
          "height": 265
        },
        "outputId": "0b0be5ff-548b-4c25-b799-b5b3cec252be"
      },
      "source": [
        "u_true=u_D\n",
        "plot(mesh1)\n",
        "error_L2 = errornorm(u_true, u, 'L2')\n",
        "\n",
        "# Compute maximum error at vertices\n",
        "vertex_values_u_D = u_D.compute_vertex_values(mesh1)\n",
        "vertex_values_u = u.compute_vertex_values(mesh1)"
      ],
      "execution_count": null,
      "outputs": [
        {
          "output_type": "display_data",
          "data": {
            "image/png": "[encoded data removed]",
            "text/plain": [
              "<Figure size 432x288 with 1 Axes>"
            ]
          },
          "metadata": {
            "tags": [],
            "needs_background": "light"
          }
        }
      ]
    },
    {
      "cell_type": "code",
      "metadata": {
        "id": "eUJ-1sR2DJWr",
        "colab_type": "code",
        "colab": {
          "base_uri": "https://localhost:8080/",
          "height": 221
        },
        "outputId": "8199c80f-bfac-4539-a8a6-cbd08abda904"
      },
      "source": [
        "u_e=Expression(\"1+sin(2*pi*(x[0]-x[1]))\", degree=2)\n",
        "f1=interpolate(u_e,V)\n",
        "plot(f1)\n",
        "plt.subplot(1,2,1)\n",
        "plot(u)\n",
        "plt.subplot(1,2,2)\n",
        "plot(f1)"
      ],
      "execution_count": null,
      "outputs": [
        {
          "output_type": "execute_result",
          "data": {
            "text/plain": [
              "<matplotlib.tri.tricontour.TriContourSet at 0x7f086478e438>"
            ]
          },
          "metadata": {
            "tags": []
          },
          "execution_count": 110
        },
        {
          "output_type": "display_data",
          "data": {
            "image/png": "[encoded data removed]",
            "text/plain": [
              "<Figure size 432x288 with 2 Axes>"
            ]
          },
          "metadata": {
            "tags": [],
            "needs_background": "light"
          }
        }
      ]
    },
    {
      "cell_type": "code",
      "metadata": {
        "id": "ChAlqleOFgPA",
        "colab_type": "code",
        "colab": {
          "base_uri": "https://localhost:8080/",
          "height": 287
        },
        "outputId": "0d33db55-1597-4cc7-82aa-acf42e092d8c"
      },
      "source": [
        "f=interpolate(u_D,V)\n",
        "plot(f)"
      ],
      "execution_count": null,
      "outputs": [
        {
          "output_type": "execute_result",
          "data": {
            "text/plain": [
              "<matplotlib.tri.tricontour.TriContourSet at 0x7f08647f0630>"
            ]
          },
          "metadata": {
            "tags": []
          },
          "execution_count": 111
        },
        {
          "output_type": "display_data",
          "data": {
            "image/png": "[encoded data removed]",
            "text/plain": [
              "<Figure size 432x288 with 1 Axes>"
            ]
          },
          "metadata": {
            "tags": [],
            "needs_background": "light"
          }
        }
      ]
    },
    {
      "cell_type": "code",
      "metadata": {
        "id": "l18VmIxb7_ju",
        "colab_type": "code",
        "colab": {
          "base_uri": "https://localhost:8080/",
          "height": 52
        },
        "outputId": "1d3cca02-ffc0-45f3-f00c-bead4d7282b4"
      },
      "source": [
        "import numpy as np\n",
        "error_max = np.max(np.abs(vertex_values_u_D - vertex_values_u))\n",
        "\n",
        "# Print errors\n",
        "print('error_L2  =', error_L2)\n",
        "print('error_max =', error_max)"
      ],
      "execution_count": null,
      "outputs": [
        {
          "output_type": "stream",
          "text": [
            "error_L2  = 0.0020237000629114714\n",
            "error_max = 0.0006568228397534348\n"
          ],
          "name": "stdout"
        }
      ]
    },
    {
      "cell_type": "code",
      "metadata": {
        "id": "ml4Oq4Aj8TLy",
        "colab_type": "code",
        "colab": {}
      },
      "source": [
        "V_1=FunctionSpace(mesh1,'P',1) #1-linear elements\n",
        "\n",
        "bc1 = DirichletBC(V_1, u_D, boundary)"
      ],
      "execution_count": null,
      "outputs": []
    },
    {
      "cell_type": "code",
      "metadata": {
        "id": "O6PM2Cqc8aG-",
        "colab_type": "code",
        "colab": {}
      },
      "source": [
        "# Define variational problem\n",
        "u_1 = TrialFunction(V_1)\n",
        "\n",
        "v_1 = TestFunction(V_1)\n",
        "\n",
        "f = f = Expression('2*pow(2*pi,2)*sin(2*pi*(x[0]-x[1]))',degree=2)\n",
        "a_1 = dot(grad(u_1), grad(v_1))*dx\n",
        "\n",
        "L_1 = f*v_1*dx"
      ],
      "execution_count": null,
      "outputs": []
    },
    {
      "cell_type": "code",
      "metadata": {
        "id": "aitDReXA85cl",
        "colab_type": "code",
        "colab": {
          "base_uri": "https://localhost:8080/",
          "height": 316
        },
        "outputId": "6e7a2acd-5acb-4d8a-9dad-034c7441c722"
      },
      "source": [
        "from datetime import datetime\n",
        "\n",
        "\n",
        "# Compute solution\n",
        "u_1= Function(V_1)\n",
        "\n",
        "startTime = datetime.now()\n",
        "solve(a_1 == L_1, u_1, bc1)\n",
        "\n",
        "endTime = datetime.now()\n",
        "\n",
        "# Plot solution and mesh\n",
        "p_1=plot(u_1,  title=\"Solution u\")\n",
        "\n",
        "plt.colorbar(p_1)\n",
        "\n",
        "#plot(mesh)\n",
        "print(endTime-startTime)  #plot for linear elements."
      ],
      "execution_count": null,
      "outputs": [
        {
          "output_type": "stream",
          "text": [
            "Calling FFC just-in-time (JIT) compiler, this may take some time.\n",
            "0:00:00.530854\n"
          ],
          "name": "stdout"
        },
        {
          "output_type": "display_data",
          "data": {
            "image/png": "[encoded data removed]",
            "text/plain": [
              "<Figure size 432x288 with 2 Axes>"
            ]
          },
          "metadata": {
            "tags": [],
            "needs_background": "light"
          }
        }
      ]
    },
    {
      "cell_type": "code",
      "metadata": {
        "id": "v_z6xb_J57v7",
        "colab_type": "code",
        "colab": {
          "base_uri": "https://localhost:8080/",
          "height": 300
        },
        "outputId": "de98adae-324d-4ab7-dc74-f2fa14f0136c"
      },
      "source": [
        "plot(mesh2)"
      ],
      "execution_count": null,
      "outputs": [
        {
          "output_type": "execute_result",
          "data": {
            "text/plain": [
              "[<matplotlib.lines.Line2D at 0x7f085f608ba8>,\n",
              " <matplotlib.lines.Line2D at 0x7f085f608d30>]"
            ]
          },
          "metadata": {
            "tags": []
          },
          "execution_count": 120
        },
        {
          "output_type": "display_data",
          "data": {
            "image/png": "[encoded data removed]",
            "text/plain": [
              "<Figure size 432x288 with 1 Axes>"
            ]
          },
          "metadata": {
            "tags": [],
            "needs_background": "light"
          }
        }
      ]
    },
    {
      "cell_type": "code",
      "metadata": {
        "id": "2Cj9ocz_-yKq",
        "colab_type": "code",
        "colab": {
          "base_uri": "https://localhost:8080/",
          "height": 35
        },
        "outputId": "605dbb59-ded0-4ff6-95e1-ebac5b2f4597"
      },
      "source": [
        "V_2=FunctionSpace(mesh2,'P',3) #3-cubic elements\n",
        "bc2 = DirichletBC(V_2, u_D, boundary)"
      ],
      "execution_count": 122,
      "outputs": [
        {
          "output_type": "stream",
          "text": [
            "Calling FFC just-in-time (JIT) compiler, this may take some time.\n"
          ],
          "name": "stdout"
        }
      ]
    },
    {
      "cell_type": "code",
      "metadata": {
        "id": "O6erF8Va_CBi",
        "colab_type": "code",
        "colab": {}
      },
      "source": [
        "# Define variational problem\n",
        "u_2 = TrialFunction(V_2)\n",
        "\n",
        "v_2 = TestFunction(V_2)\n",
        "f = Expression('2*pow(2*pi,2)*sin(2*pi*(x[0]-x[1]))',degree=2)\n",
        "a_2 = dot(grad(u_2), grad(v_2))*dx\n",
        "\n",
        "L_2 = f*v_2*dx"
      ],
      "execution_count": 124,
      "outputs": []
    },
    {
      "cell_type": "code",
      "metadata": {
        "id": "aRCqhtGr_QCd",
        "colab_type": "code",
        "colab": {
          "base_uri": "https://localhost:8080/",
          "height": 333
        },
        "outputId": "a72421b4-65e8-4096-8fe3-9b9de1a44a32"
      },
      "source": [
        "from datetime import datetime\n",
        "\n",
        "\n",
        "# Compute solution\n",
        "u_2= Function(V_2)\n",
        "\n",
        "startTime = datetime.now()\n",
        "solve(a_2 == L_2, u_2, bc2)\n",
        "\n",
        "endTime = datetime.now()\n",
        "\n",
        "# Plot solution and mesh\n",
        "p_2=plot(u_2,  title=\"Solution u(x,y)\")\n",
        "\n",
        "plt.colorbar(p_2)\n",
        "\n",
        "#plot(mesh)\n",
        "print(endTime-startTime)  #plot for cubic elements with 16 by 16 mesh."
      ],
      "execution_count": 125,
      "outputs": [
        {
          "output_type": "stream",
          "text": [
            "Calling FFC just-in-time (JIT) compiler, this may take some time.\n",
            "Calling FFC just-in-time (JIT) compiler, this may take some time.\n",
            "0:00:01.113844\n"
          ],
          "name": "stdout"
        },
        {
          "output_type": "display_data",
          "data": {
            "image/png": "[encoded data removed]",
            "text/plain": [
              "<Figure size 432x288 with 2 Axes>"
            ]
          },
          "metadata": {
            "tags": [],
            "needs_background": "light"
          }
        }
      ]
    },
    {
      "cell_type": "code",
      "metadata": {
        "id": "2oP-W5J46EV4",
        "colab_type": "code",
        "colab": {
          "base_uri": "https://localhost:8080/",
          "height": 69
        },
        "outputId": "938ec134-c459-4ef4-9a44-3078fed247fa"
      },
      "source": [
        "n=FacetNormal(mesh1)\n",
        "flux=-dot(grad(u),n)*ds  #flux functional\n",
        "totalflux=assemble(flux)\n",
        "print('totalflux =', totalflux)"
      ],
      "execution_count": 126,
      "outputs": [
        {
          "output_type": "stream",
          "text": [
            "Calling FFC just-in-time (JIT) compiler, this may take some time.\n",
            "Calling FFC just-in-time (JIT) compiler, this may take some time.\n",
            "totalflux = 1.1102230246251565e-15\n"
          ],
          "name": "stdout"
        }
      ]
    },
    {
      "cell_type": "code",
      "metadata": {
        "id": "4CxnI1XGAoKZ",
        "colab_type": "code",
        "colab": {
          "base_uri": "https://localhost:8080/",
          "height": 317
        },
        "outputId": "fb95bd46-4008-4c02-cf33-5125c906d838"
      },
      "source": [
        "plot(grad(u)) #plot of gradient of u(x,y)"
      ],
      "execution_count": 127,
      "outputs": [
        {
          "output_type": "stream",
          "text": [
            "Calling FFC just-in-time (JIT) compiler, this may take some time.\n",
            "Calling FFC just-in-time (JIT) compiler, this may take some time.\n"
          ],
          "name": "stdout"
        },
        {
          "output_type": "execute_result",
          "data": {
            "text/plain": [
              "<matplotlib.quiver.Quiver at 0x7f086020d208>"
            ]
          },
          "metadata": {
            "tags": []
          },
          "execution_count": 127
        },
        {
          "output_type": "display_data",
          "data": {
            "image/png": "[encoded data removed]",
            "text/plain": [
              "<Figure size 432x288 with 1 Axes>"
            ]
          },
          "metadata": {
            "tags": [],
            "needs_background": "light"
          }
        }
      ]
    }
  ]
}